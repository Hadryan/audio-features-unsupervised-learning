{
 "cells": [
  {
   "cell_type": "code",
   "execution_count": 1,
   "metadata": {},
   "outputs": [],
   "source": [
    "import pandas as pd\n",
    "from sklearn.datasets import load_digits\n",
    "import hypertools as hyp"
   ]
  },
  {
   "cell_type": "code",
   "execution_count": 2,
   "metadata": {},
   "outputs": [],
   "source": [
    "df = pd.read_csv('main_cluster.csv')\n",
    "# Subset the column of the clustering result\n",
    "target = df['clustering']\n",
    "df = df.drop('clustering', axis=1)\n",
    "group = target.astype('str')"
   ]
  },
  {
   "cell_type": "code",
   "execution_count": null,
   "metadata": {},
   "outputs": [],
   "source": [
    "hyp.plot(df, '.', group=group, model='TSNE', ndims=2, legend=[1,2,3,4,5], title = \"2D Representation of the Main Cluster using t-SNE\")"
   ]
  },
  {
   "cell_type": "code",
   "execution_count": 6,
   "metadata": {},
   "outputs": [
    {
     "ename": "SystemExit",
     "evalue": "0",
     "output_type": "error",
     "traceback": [
      "An exception has occurred, use %tb to see the full traceback.\n",
      "\u001b[0;31mSystemExit\u001b[0m\u001b[0;31m:\u001b[0m 0\n"
     ]
    }
   ],
   "source": [
    "hyp.plot(df, '.', group=group, model='PCA', ndims=2, legend=[1,2,3,4,5], title = \"2D Representation of the Main Cluster using PCA\")"
   ]
  },
  {
   "cell_type": "code",
   "execution_count": 9,
   "metadata": {},
   "outputs": [
    {
     "ename": "SystemExit",
     "evalue": "0",
     "output_type": "error",
     "traceback": [
      "An exception has occurred, use %tb to see the full traceback.\n",
      "\u001b[0;31mSystemExit\u001b[0m\u001b[0;31m:\u001b[0m 0\n"
     ]
    }
   ],
   "source": [
    "hyp.plot(df, '.', group=group, model='TSNE', ndims=3, legend=[1,2,3,4,5], title = \"3D Representation of the Main Cluster using t-SNE\")"
   ]
  },
  {
   "cell_type": "code",
   "execution_count": 2,
   "metadata": {},
   "outputs": [
    {
     "name": "stdout",
     "output_type": "stream",
     "text": [
      "    liveness  speechiness  acousticness  instrumentalness  danceability\n",
      "0     0.1080       0.0289         0.416          0.000000        0.4560\n",
      "1     0.1370       0.0546         0.762          0.000353        0.5840\n",
      "2     0.1220       0.0308         0.766          0.000002        0.4800\n",
      "3     0.0951       0.0259         0.916          0.011400        0.4310\n",
      "4     0.1080       0.9060         0.983          0.000111        0.7570\n",
      "5     0.1030       0.0285         0.671          0.072300        0.5280\n",
      "6     0.2270       0.0391         0.515          0.041800        0.6280\n",
      "7     0.2030       0.0419         0.967          0.064200        0.0906\n",
      "8     0.1190       0.0415         0.500          0.423000        0.7790\n",
      "9     0.1220       0.0417         0.643          0.000000        0.6630\n",
      "10    0.1140       0.0316         0.822          0.213000        0.2200\n",
      "11    0.0571       0.4520         0.947          0.000246        0.5840\n",
      "12    0.1050       0.2300         0.553          0.000397        0.7710\n",
      "13    0.2490       0.2540         0.589          0.000002        0.5260\n",
      "14    0.0959       0.0297         0.753          0.000104        0.4010\n",
      "15    0.1170       0.0433         0.919          0.025500        0.2510\n",
      "16    0.1110       0.0295         0.696          0.000025        0.3900\n",
      "17    0.1770       0.0297         0.638          0.000004        0.5130\n",
      "18    0.0589       0.0544         0.539          0.000000        0.6710\n",
      "19    0.1220       0.0308         0.766          0.000002        0.4800\n",
      "20    0.0810       0.0286         0.729          0.005650        0.5100\n",
      "21    0.1020       0.3800         0.723          0.000005        0.7140\n",
      "22    0.1010       0.0280         0.486          0.000631        0.6580\n",
      "23    0.1370       0.0357         0.848          0.000000        0.4720\n",
      "24    0.1230       0.0305         0.445          0.000000        0.4200\n",
      "25    0.3290       0.0275         0.473          0.000000        0.5450\n",
      "26    0.0997       0.0372         0.459          0.430000        0.7080\n",
      "27    0.1190       0.0291         0.752          0.003890        0.4730\n",
      "28    0.1170       0.0433         0.919          0.025500        0.2510\n",
      "29    0.1130       0.0363         0.417          0.141000        0.1900\n",
      "30    0.2300       0.6680         0.577          0.000000        0.7700\n",
      "31    0.0966       0.0493         0.593          0.021100        0.7480\n",
      "32    0.5150       0.3440         0.623          0.000000        0.6850\n",
      "33    0.1000       0.0377         0.433          0.000780        0.4800\n",
      "34    0.0892       0.0315         0.644          0.003720        0.4640\n",
      "35    0.0475       0.1810         0.939          0.298000        0.4040\n",
      "36    0.4950       0.2730         0.586          0.000000        0.4690\n",
      "37    0.2710       0.0328         0.980          0.008160        0.3890\n",
      "38    0.1080       0.0283         0.869          0.007680        0.2620\n",
      "39    0.1190       0.0479         0.596          0.056100        0.4510\n",
      "40    0.1230       0.0901         0.708          0.000000        0.6350\n",
      "41    0.7790       0.3570         0.530          0.000000        0.6700\n",
      "42    0.0916       0.0371         0.958          0.000006        0.7700\n",
      "43    0.1080       0.0341         0.939          0.000054        0.2960\n",
      "44    0.1710       0.0303         0.849          0.000102        0.4770\n",
      "45    0.3510       0.0332         0.949          0.367000        0.2510\n",
      "46    0.1000       0.0419         0.669          0.000108        0.4110\n",
      "47    0.1250       0.0286         0.623          0.000086        0.5130\n",
      "48    0.1240       0.0270         0.886          0.000300        0.5360\n",
      "49    0.1040       0.5290         0.582          0.000000        0.8110\n",
      "50    0.1410       0.0317         0.838          0.000000        0.4390\n",
      "51    0.0851       0.2480         0.507          0.000000        0.5390\n",
      "52    0.1330       0.0295         0.867          0.000125        0.4370\n",
      "53    0.1530       0.0291         0.761          0.057500        0.6030\n",
      "54    0.3770       0.3070         0.655          0.269000        0.6280\n",
      "55    0.1370       0.0372         0.420          0.006400        0.5180\n",
      "56    0.3510       0.0332         0.949          0.367000        0.2510\n",
      "57    0.0845       0.0270         0.862          0.016400        0.5310\n",
      "58    0.1390       0.0312         0.461          0.000038        0.2720\n",
      "59    0.1000       0.0388         0.941          0.057200        0.1210\n"
     ]
    }
   ],
   "source": [
    "df = pd.read_csv('cluster_3.csv')\n",
    "# Subset the column of the clustering result\n",
    "target = df['clustering']\n",
    "df = df.drop('clustering', axis=1)\n",
    "group = target.astype('str')"
   ]
  },
  {
   "cell_type": "code",
   "execution_count": null,
   "metadata": {},
   "outputs": [],
   "source": [
    "hyp.plot(df, '.' ,group=group, model='TSNE', ndims=2, legend=[1,2,3,4], title = \"2D Representation of Cluster 3 Using t-SNE\")"
   ]
  },
  {
   "cell_type": "code",
   "execution_count": null,
   "metadata": {},
   "outputs": [],
   "source": [
    "hyp.plot(df, '.', group=group, model='PCA', ndims=2, legend=[1,2,3], title = \"2D Representation of Cluster 3 Using PCA\")"
   ]
  },
  {
   "cell_type": "code",
   "execution_count": 12,
   "metadata": {},
   "outputs": [
    {
     "ename": "SystemExit",
     "evalue": "0",
     "output_type": "error",
     "traceback": [
      "An exception has occurred, use %tb to see the full traceback.\n",
      "\u001b[0;31mSystemExit\u001b[0m\u001b[0;31m:\u001b[0m 0\n"
     ]
    }
   ],
   "source": [
    "hyp.plot(df, '.', group=group, model='TSNE', ndims=3, legend=[1,2,3], title = \"3D Representation of Cluster 3 Using t-SNE\")"
   ]
  }
 ],
 "metadata": {
  "kernelspec": {
   "display_name": "Python 2",
   "language": "python",
   "name": "python2"
  },
  "language_info": {
   "codemirror_mode": {
    "name": "ipython",
    "version": 2
   },
   "file_extension": ".py",
   "mimetype": "text/x-python",
   "name": "python",
   "nbconvert_exporter": "python",
   "pygments_lexer": "ipython2",
   "version": "2.7.11"
  }
 },
 "nbformat": 4,
 "nbformat_minor": 1
}
